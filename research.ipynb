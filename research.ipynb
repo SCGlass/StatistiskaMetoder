{
 "cells": [
  {
   "cell_type": "code",
   "execution_count": 100,
   "metadata": {},
   "outputs": [],
   "source": [
    "import pandas as pd\n",
    "import numpy as np\n",
    "import matplotlib.pyplot as plt\n",
    "import scipy.stats as scs\n",
    "import seaborn as sns "
   ]
  },
  {
   "cell_type": "code",
   "execution_count": 101,
   "metadata": {},
   "outputs": [],
   "source": [
    "df_iris = pd.read_csv('..\\StatistiskaMetoder\\data\\iris.csv') \n",
    "diamonds_df = pd.read_csv('..\\StatistiskaMetoder\\data\\diamonds.csv')\n",
    "car_df = pd.read_csv('..\\StatistiskaMetoder\\data\\cars.csv')"
   ]
  },
  {
   "cell_type": "code",
   "execution_count": 102,
   "metadata": {},
   "outputs": [
    {
     "name": "stdout",
     "output_type": "stream",
     "text": [
      "<class 'pandas.core.frame.DataFrame'>\n",
      "RangeIndex: 150 entries, 0 to 149\n",
      "Data columns (total 5 columns):\n",
      " #   Column         Non-Null Count  Dtype  \n",
      "---  ------         --------------  -----  \n",
      " 0   sepal_length   150 non-null    float64\n",
      " 1    sepal_width   150 non-null    float64\n",
      " 2    petal_length  150 non-null    float64\n",
      " 3    petal_width   150 non-null    float64\n",
      " 4    class         150 non-null    object \n",
      "dtypes: float64(4), object(1)\n",
      "memory usage: 6.0+ KB\n"
     ]
    }
   ],
   "source": [
    "df_iris.info()"
   ]
  },
  {
   "cell_type": "code",
   "execution_count": 103,
   "metadata": {},
   "outputs": [
    {
     "data": {
      "text/plain": [
       "array(['Iris-setosa', 'Iris-versicolor', 'Iris-virginica'], dtype=object)"
      ]
     },
     "execution_count": 103,
     "metadata": {},
     "output_type": "execute_result"
    }
   ],
   "source": [
    "df_iris[' class'].unique() # we can see that there are 3 different types of Iris"
   ]
  },
  {
   "cell_type": "code",
   "execution_count": 104,
   "metadata": {},
   "outputs": [],
   "source": [
    "# Now I will separate so that the 3 types have a separate table each.\n",
    "\n",
    "df_setosa = df_iris[df_iris[' class'] == 'Iris-setosa'].reset_index(drop=True)\n",
    "df_versicolor = df_iris[df_iris[' class'] == 'Iris-versicolor'].reset_index(drop=True)\n",
    "df_virginica = df_iris[df_iris[' class'] == 'Iris-virginica'].reset_index(drop=True)\n",
    "\n",
    "# we can tell that each data set has a total of 50 of the 3 different types of Iris flowers\n",
    "# This is good as it is equal sample sets for each type\n"
   ]
  },
  {
   "cell_type": "code",
   "execution_count": 133,
   "metadata": {},
   "outputs": [
    {
     "data": {
      "text/html": [
       "<div>\n",
       "<style scoped>\n",
       "    .dataframe tbody tr th:only-of-type {\n",
       "        vertical-align: middle;\n",
       "    }\n",
       "\n",
       "    .dataframe tbody tr th {\n",
       "        vertical-align: top;\n",
       "    }\n",
       "\n",
       "    .dataframe thead th {\n",
       "        text-align: right;\n",
       "    }\n",
       "</style>\n",
       "<table border=\"1\" class=\"dataframe\">\n",
       "  <thead>\n",
       "    <tr style=\"text-align: right;\">\n",
       "      <th></th>\n",
       "      <th>sepal_length</th>\n",
       "      <th>sepal_width</th>\n",
       "      <th>petal_length</th>\n",
       "      <th>petal_width</th>\n",
       "    </tr>\n",
       "  </thead>\n",
       "  <tbody>\n",
       "    <tr>\n",
       "      <th>count</th>\n",
       "      <td>50.000000</td>\n",
       "      <td>50.000000</td>\n",
       "      <td>50.000000</td>\n",
       "      <td>50.000000</td>\n",
       "    </tr>\n",
       "    <tr>\n",
       "      <th>mean</th>\n",
       "      <td>5.936000</td>\n",
       "      <td>2.770000</td>\n",
       "      <td>4.260000</td>\n",
       "      <td>1.326000</td>\n",
       "    </tr>\n",
       "    <tr>\n",
       "      <th>std</th>\n",
       "      <td>0.516171</td>\n",
       "      <td>0.313798</td>\n",
       "      <td>0.469911</td>\n",
       "      <td>0.197753</td>\n",
       "    </tr>\n",
       "    <tr>\n",
       "      <th>min</th>\n",
       "      <td>4.900000</td>\n",
       "      <td>2.000000</td>\n",
       "      <td>3.000000</td>\n",
       "      <td>1.000000</td>\n",
       "    </tr>\n",
       "    <tr>\n",
       "      <th>25%</th>\n",
       "      <td>5.600000</td>\n",
       "      <td>2.525000</td>\n",
       "      <td>4.000000</td>\n",
       "      <td>1.200000</td>\n",
       "    </tr>\n",
       "    <tr>\n",
       "      <th>50%</th>\n",
       "      <td>5.900000</td>\n",
       "      <td>2.800000</td>\n",
       "      <td>4.350000</td>\n",
       "      <td>1.300000</td>\n",
       "    </tr>\n",
       "    <tr>\n",
       "      <th>75%</th>\n",
       "      <td>6.300000</td>\n",
       "      <td>3.000000</td>\n",
       "      <td>4.600000</td>\n",
       "      <td>1.500000</td>\n",
       "    </tr>\n",
       "    <tr>\n",
       "      <th>max</th>\n",
       "      <td>7.000000</td>\n",
       "      <td>3.400000</td>\n",
       "      <td>5.100000</td>\n",
       "      <td>1.800000</td>\n",
       "    </tr>\n",
       "  </tbody>\n",
       "</table>\n",
       "</div>"
      ],
      "text/plain": [
       "       sepal_length   sepal_width   petal_length   petal_width\n",
       "count     50.000000     50.000000      50.000000     50.000000\n",
       "mean       5.936000      2.770000       4.260000      1.326000\n",
       "std        0.516171      0.313798       0.469911      0.197753\n",
       "min        4.900000      2.000000       3.000000      1.000000\n",
       "25%        5.600000      2.525000       4.000000      1.200000\n",
       "50%        5.900000      2.800000       4.350000      1.300000\n",
       "75%        6.300000      3.000000       4.600000      1.500000\n",
       "max        7.000000      3.400000       5.100000      1.800000"
      ]
     },
     "execution_count": 133,
     "metadata": {},
     "output_type": "execute_result"
    }
   ],
   "source": [
    "df_versicolor.describe()"
   ]
  },
  {
   "cell_type": "code",
   "execution_count": 105,
   "metadata": {},
   "outputs": [
    {
     "data": {
      "text/plain": [
       "mean    5.006\n",
       "50%     5.000\n",
       "Name: sepal_length, dtype: float64"
      ]
     },
     "execution_count": 105,
     "metadata": {},
     "output_type": "execute_result"
    }
   ],
   "source": [
    "# I will now look at the different types of average (mean,median and mode) for sepal length of the  setosa Iris flower.\n",
    "\n",
    "df_setosa['sepal_length'].describe()[[\"mean\",\"50%\"]]\n"
   ]
  },
  {
   "cell_type": "code",
   "execution_count": 106,
   "metadata": {},
   "outputs": [],
   "source": [
    "# getting the mean and median of the length of stem(sepal) for each Iris type\n",
    "setosa_sep_length_mean = df_setosa[\"sepal_length\"].mean()\n",
    "setosa_sep_length_median = df_setosa[\"sepal_length\"].median()\n",
    "\n",
    "versicolor_sep_length_mean = df_versicolor[\"sepal_length\"].mean()\n",
    "versicolor_sep_length_median = df_versicolor[\"sepal_length\"].median()\n",
    "\n",
    "virginica_sep_length_mean = df_virginica[\"sepal_length\"].mean()\n",
    "virginica_sep_length_median = df_virginica[\"sepal_length\"].median()\n"
   ]
  },
  {
   "cell_type": "code",
   "execution_count": 132,
   "metadata": {},
   "outputs": [
    {
     "data": {
      "image/png": "[encoded data removed]",
      "text/plain": [
       "<Figure size 2000x500 with 3 Axes>"
      ]
     },
     "metadata": {},
     "output_type": "display_data"
    }
   ],
   "source": [
    "# plot on 3 different graphs median and mean of the stem length of each different varieties of Iris\n",
    "\n",
    "fig, ax = plt.subplots(1,3, figsize= (20,5))\n",
    "\n",
    "# setosa plot\n",
    "sns.histplot(ax = ax[0], x = \"sepal_length\", data=df_setosa )\n",
    "ax[0].set(title=\"Setosa Iris\", xlabel= \"Sepal(stem) length\", ylabel= \"Rate\")\n",
    "ax[0].plot([setosa_sep_length_mean, setosa_sep_length_mean], [0, 16], color='green', linestyle='--', linewidth=1, label='Mean')\n",
    "ax[0].plot([setosa_sep_length_median, setos_sep_length_median], [0, 16], color='red', linestyle='--', linewidth=1, label='Median')\n",
    "ax[0].legend(loc='upper right')\n",
    "\n",
    "# versicolor plot\n",
    "sns.histplot(ax = ax[1], x= \"sepal_length\", data=df_versicolor)\n",
    "ax[1].set(title=\"Versicolour Iris\", xlabel=\"Sepal(stem) length\", ylabel=\"Rate\")\n",
    "ax[1].plot([versicolor_sep_length_mean, versicolor_sep_length_mean], [0, 16], color='green', linestyle='--', linewidth=1, label='Mean')\n",
    "ax[1].plot([versicolor_sep_length_median, versicolor_sep_length_median], [0, 16], color='red', linestyle='--', linewidth=1, label='Median')\n",
    "ax[1].legend(loc='upper right')\n",
    "\n",
    "# virginica plot\n",
    "sns.histplot(ax = ax[2], x= \"sepal_length\", data=df_virginica)\n",
    "ax[2].set(title=\"Virginica Iris\", xlabel=\"Sepal(stem) length\", ylabel=\"Rate\")\n",
    "ax[2].plot([virginica_sep_length_mean, virginica_sep_length_mean], [0, 16], color='green', linestyle='--', linewidth=1, label='Mean')\n",
    "ax[2].plot([virginica_sep_length_median, virginica_sep_length_median], [0, 16], color='red', linestyle='--', linewidth=1, label='Median')\n",
    "ax[2].legend(loc='upper right')\n",
    "\n",
    "plt.show()"
   ]
  }
 ],
 "metadata": {
  "kernelspec": {
   "display_name": "StatistiskaMetoder-9tWTAfNj",
   "language": "python",
   "name": "python3"
  },
  "language_info": {
   "codemirror_mode": {
    "name": "ipython",
    "version": 3
   },
   "file_extension": ".py",
   "mimetype": "text/x-python",
   "name": "python",
   "nbconvert_exporter": "python",
   "pygments_lexer": "ipython3",
   "version": "3.9.13 (tags/v3.9.13:6de2ca5, May 17 2022, 16:36:42) [MSC v.1929 64 bit (AMD64)]"
  },
  "orig_nbformat": 4,
  "vscode": {
   "interpreter": {
    "hash": "befd6996b05bd64daf22718ad0307f9f215c8d825b5816ea1445d86c0ed69e48"
   }
  }
 },
 "nbformat": 4,
 "nbformat_minor": 2
}
