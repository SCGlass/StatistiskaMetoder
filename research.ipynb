{
 "cells": [
  {
   "cell_type": "code",
   "execution_count": 89,
   "metadata": {},
   "outputs": [],
   "source": [
    "import pandas as pd\n",
    "import numpy as np\n",
    "import matplotlib.pyplot as plt\n",
    "import scipy.stats as scs\n",
    "import seaborn as sns "
   ]
  },
  {
   "cell_type": "code",
   "execution_count": 63,
   "metadata": {},
   "outputs": [],
   "source": [
    "df_iris = pd.read_csv('..\\StatistiskaMetoder\\data\\iris.csv') \n",
    "diamonds_df = pd.read_csv('..\\StatistiskaMetoder\\data\\diamonds.csv')\n",
    "car_df = pd.read_csv('..\\StatistiskaMetoder\\data\\cars.csv')"
   ]
  },
  {
   "cell_type": "code",
   "execution_count": 64,
   "metadata": {},
   "outputs": [
    {
     "name": "stdout",
     "output_type": "stream",
     "text": [
      "<class 'pandas.core.frame.DataFrame'>\n",
      "RangeIndex: 150 entries, 0 to 149\n",
      "Data columns (total 5 columns):\n",
      " #   Column         Non-Null Count  Dtype  \n",
      "---  ------         --------------  -----  \n",
      " 0   sepal_length   150 non-null    float64\n",
      " 1    sepal_width   150 non-null    float64\n",
      " 2    petal_length  150 non-null    float64\n",
      " 3    petal_width   150 non-null    float64\n",
      " 4    class         150 non-null    object \n",
      "dtypes: float64(4), object(1)\n",
      "memory usage: 6.0+ KB\n"
     ]
    }
   ],
   "source": [
    "df_iris.info()"
   ]
  },
  {
   "cell_type": "code",
   "execution_count": 65,
   "metadata": {},
   "outputs": [
    {
     "data": {
      "text/plain": [
       "array(['Iris-setosa', 'Iris-versicolor', 'Iris-virginica'], dtype=object)"
      ]
     },
     "execution_count": 65,
     "metadata": {},
     "output_type": "execute_result"
    }
   ],
   "source": [
    "df_iris[' class'].unique() # we can see that there are 3 different types of Iris"
   ]
  },
  {
   "cell_type": "code",
   "execution_count": 78,
   "metadata": {},
   "outputs": [],
   "source": [
    "# Now I will separate so that the 3 types have a separate table each.\n",
    "\n",
    "df_setosa = df_iris[df_iris[' class'] == 'Iris-setosa'].reset_index(drop=True)\n",
    "df_versicolor = df_iris[df_iris[' class'] == 'Iris-versicolor'].reset_index(drop=True)\n",
    "df_virginica = df_iris[df_iris[' class'] == 'Iris-virginica'].reset_index(drop=True)\n",
    "\n",
    "# we can tell that each data set has a total of 50 of the 3 different types of Iris flowers\n",
    "# This is good as it is equal sample sets for each type\n"
   ]
  },
  {
   "cell_type": "code",
   "execution_count": 88,
   "metadata": {},
   "outputs": [
    {
     "data": {
      "text/plain": [
       "mean    5.006\n",
       "50%     5.000\n",
       "Name: sepal_length, dtype: float64"
      ]
     },
     "execution_count": 88,
     "metadata": {},
     "output_type": "execute_result"
    }
   ],
   "source": [
    "# I will now look at the different types of average (mean,median and mode) for sepal length of the  setosa Iris flower.\n",
    "\n",
    "df_setosa['sepal_length'].describe()[[\"mean\",\"50%\"]]\n"
   ]
  },
  {
   "cell_type": "code",
   "execution_count": 97,
   "metadata": {},
   "outputs": [],
   "source": [
    "# getting the mean and median of the length of stem(sepal) for each Iris type\n",
    "setosa_sep_length_mean = df_setosa[\"sepal_length\"].mean()\n",
    "setosa_sep_length_median = df_setosa[\"sepal_length\"].median()\n",
    "\n"
   ]
  },
  {
   "cell_type": "code",
   "execution_count": 95,
   "metadata": {},
   "outputs": [
    {
     "data": {
      "image/png": "[encoded data removed]",
      "text/plain": [
       "<Figure size 2000x500 with 3 Axes>"
      ]
     },
     "metadata": {},
     "output_type": "display_data"
    }
   ],
   "source": [
    "# plot on 3 different graphs median and mean of the stem length of each different varieties of Iris\n",
    "\n",
    "fig, ax = plt.subplots(1,3, figsize= (20,5))\n",
    "\n",
    "sns.histplot"
   ]
  }
 ],
 "metadata": {
  "kernelspec": {
   "display_name": "StatistiskaMetoder-9tWTAfNj",
   "language": "python",
   "name": "python3"
  },
  "language_info": {
   "codemirror_mode": {
    "name": "ipython",
    "version": 3
   },
   "file_extension": ".py",
   "mimetype": "text/x-python",
   "name": "python",
   "nbconvert_exporter": "python",
   "pygments_lexer": "ipython3",
   "version": "3.9.13"
  },
  "orig_nbformat": 4,
  "vscode": {
   "interpreter": {
    "hash": "befd6996b05bd64daf22718ad0307f9f215c8d825b5816ea1445d86c0ed69e48"
   }
  }
 },
 "nbformat": 4,
 "nbformat_minor": 2
}
